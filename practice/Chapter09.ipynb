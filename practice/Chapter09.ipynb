{
  "cells": [
    {
      "cell_type": "markdown",
      "id": "60c10872",
      "metadata": {
        "id": "60c10872"
      },
      "source": [
        "<table align=\"left\">\n",
        "  <td>\n",
        "    <a href=\"https://colab.research.google.com/github/salamhha/handson-ml3/blob/main/practice/Chapter09.ipynb\" target=\"_parent\"><img src=\"https://colab.research.google.com/assets/colab-badge.svg\" alt=\"Open In Colab\"/></a>\n",
        "  </td>\n",
        "</table>"
      ]
    },
    {
      "cell_type": "code",
      "source": [
        "# K-means\n",
        "from sklearn.cluster import KMeans\n",
        "from sklearn.datasets import make_blobs\n",
        "\n",
        "k = 5\n",
        "X, y = make_blobs(n_samples=1500, n_features=2,\n",
        "                  centers=k, random_state=42)\n",
        "kmeans = KMeans(n_clusters=k, random_state=42)\n",
        "y_pred = kmeans.fit_predict(X)"
      ],
      "metadata": {
        "id": "hhVSxmMI0PDP"
      },
      "id": "hhVSxmMI0PDP",
      "execution_count": 2,
      "outputs": []
    },
    {
      "cell_type": "code",
      "source": [
        "y_pred"
      ],
      "metadata": {
        "id": "0j6DB-hz0l84",
        "outputId": "6dd472f6-41f2-407d-e4f5-a7c56fb7880d",
        "colab": {
          "base_uri": "https://localhost:8080/"
        }
      },
      "id": "0j6DB-hz0l84",
      "execution_count": 3,
      "outputs": [
        {
          "output_type": "execute_result",
          "data": {
            "text/plain": [
              "array([4, 0, 2, ..., 4, 0, 1], dtype=int32)"
            ]
          },
          "metadata": {},
          "execution_count": 3
        }
      ]
    },
    {
      "cell_type": "code",
      "source": [
        "kmeans.cluster_centers_"
      ],
      "metadata": {
        "id": "faxUj4VB0l5P",
        "outputId": "9cb8cf8f-e7a4-4e75-e467-42a17b85f851",
        "colab": {
          "base_uri": "https://localhost:8080/"
        }
      },
      "id": "faxUj4VB0l5P",
      "execution_count": 4,
      "outputs": [
        {
          "output_type": "execute_result",
          "data": {
            "text/plain": [
              "array([[ 2.07564643,  4.16862733],\n",
              "       [-6.85406294, -6.7780619 ],\n",
              "       [-8.90992726,  7.38564553],\n",
              "       [-2.51326868,  8.99855257],\n",
              "       [ 4.7933247 ,  1.99328561]])"
            ]
          },
          "metadata": {},
          "execution_count": 4
        }
      ]
    },
    {
      "cell_type": "code",
      "source": [
        "import numpy as np\n",
        "X_new = np.array([[0, 2], [3, 2], [-3, 3], [-3, 2.5]])\n",
        "kmeans.predict(X_new)"
      ],
      "metadata": {
        "id": "Z5H4SRcd0l2j",
        "outputId": "f7abc751-601a-4313-99a0-6696ac097ae8",
        "colab": {
          "base_uri": "https://localhost:8080/"
        }
      },
      "id": "Z5H4SRcd0l2j",
      "execution_count": 5,
      "outputs": [
        {
          "output_type": "execute_result",
          "data": {
            "text/plain": [
              "array([0, 4, 0, 0], dtype=int32)"
            ]
          },
          "metadata": {},
          "execution_count": 5
        }
      ]
    },
    {
      "cell_type": "code",
      "source": [
        "kmeans.transform(X_new).round(2)"
      ],
      "metadata": {
        "id": "pfHsEUqT0hJL",
        "outputId": "b4bf5b69-3f23-451b-830f-74bd55e747f0",
        "colab": {
          "base_uri": "https://localhost:8080/"
        }
      },
      "id": "pfHsEUqT0hJL",
      "execution_count": 6,
      "outputs": [
        {
          "output_type": "execute_result",
          "data": {
            "text/plain": [
              "array([[ 3.  , 11.14, 10.41,  7.44,  4.79],\n",
              "       [ 2.36, 13.2 , 13.07,  8.91,  1.79],\n",
              "       [ 5.21, 10.51,  7.36,  6.02,  7.86],\n",
              "       [ 5.34, 10.05,  7.67,  6.52,  7.81]])"
            ]
          },
          "metadata": {},
          "execution_count": 6
        }
      ]
    },
    {
      "cell_type": "code",
      "source": [],
      "metadata": {
        "id": "3wBuuCLd1MS8"
      },
      "id": "3wBuuCLd1MS8",
      "execution_count": null,
      "outputs": []
    }
  ],
  "metadata": {
    "language_info": {
      "name": "python"
    },
    "colab": {
      "provenance": []
    },
    "kernelspec": {
      "name": "python3",
      "display_name": "Python 3"
    }
  },
  "nbformat": 4,
  "nbformat_minor": 5
}