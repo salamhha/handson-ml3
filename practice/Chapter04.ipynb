{
  "cells": [
    {
      "cell_type": "markdown",
      "id": "960acb2d",
      "metadata": {
        "id": "960acb2d"
      },
      "source": [
        "<table align=\"left\">\n",
        "  <td>\n",
        "    <a href=\"https://colab.research.google.com/github/salzcamino/handson-ml3/blob/main/practice/Chapter04.ipynb\" target=\"_parent\"><img src=\"https://colab.research.google.com/assets/colab-badge.svg\" alt=\"Open In Colab\"/></a>\n",
        "  </td>\n",
        "</table>"
      ]
    },
    {
      "cell_type": "code",
      "execution_count": 1,
      "id": "23cb5c28",
      "metadata": {
        "vscode": {
          "languageId": "plaintext"
        },
        "id": "23cb5c28"
      },
      "outputs": [],
      "source": [
        "import numpy as np\n",
        "# Generate some linear looking data to test Normal Equation (4-4)\n",
        "np.random.seed(42)\n",
        "m = 100\n",
        "X = 2 * np.random.rand(m, 1)\n",
        "y = 4 + 3 * X + np.random.randn(m,1)"
      ]
    },
    {
      "cell_type": "code",
      "source": [
        "# Computing theta, the value to minimize the MSE\n",
        "from sklearn.preprocessing import add_dummy_feature\n",
        "X_b = add_dummy_feature(X) # add x0 = 1 to each instance\n",
        "theta_best = np.linalg.inv(X_b.T @ X_b) @ X_b.T @ y"
      ],
      "metadata": {
        "id": "481gYsY1TS3V"
      },
      "id": "481gYsY1TS3V",
      "execution_count": 2,
      "outputs": []
    },
    {
      "cell_type": "code",
      "source": [
        "theta_best"
      ],
      "metadata": {
        "colab": {
          "base_uri": "https://localhost:8080/"
        },
        "id": "eByIZjASUaMd",
        "outputId": "f119abac-f3ec-422d-caa5-42445749aac9"
      },
      "id": "eByIZjASUaMd",
      "execution_count": 3,
      "outputs": [
        {
          "output_type": "execute_result",
          "data": {
            "text/plain": [
              "array([[4.21509616],\n",
              "       [2.77011339]])"
            ]
          },
          "metadata": {},
          "execution_count": 3
        }
      ]
    },
    {
      "cell_type": "code",
      "source": [
        "# Make predictions using theta\n",
        "X_new = np.array([[0], [2]])\n",
        "X_new_b = add_dummy_feature(X_new)\n",
        "y_predict = X_new_b @ theta_best\n",
        "y_predict"
      ],
      "metadata": {
        "colab": {
          "base_uri": "https://localhost:8080/"
        },
        "id": "zbRSFWuPUgQR",
        "outputId": "df9005f0-1fb6-46d8-be4f-f29d6b66e1a6"
      },
      "id": "zbRSFWuPUgQR",
      "execution_count": 5,
      "outputs": [
        {
          "output_type": "execute_result",
          "data": {
            "text/plain": [
              "array([[4.21509616],\n",
              "       [9.75532293]])"
            ]
          },
          "metadata": {},
          "execution_count": 5
        }
      ]
    },
    {
      "cell_type": "code",
      "source": [
        "# Plot the predictions\n",
        "import matplotlib.pyplot as plt\n",
        "plt.plot(X_new, y_predict, \"r-\", label = \"Predictions\")\n",
        "plt.plot(X,y,\"b.\")\n",
        "plt.show()"
      ],
      "metadata": {
        "colab": {
          "base_uri": "https://localhost:8080/",
          "height": 430
        },
        "id": "fOHF6tzAU7jd",
        "outputId": "7af269fb-cd8d-429b-b231-8afa92127d48"
      },
      "id": "fOHF6tzAU7jd",
      "execution_count": 7,
      "outputs": [
        {
          "output_type": "display_data",
          "data": {
            "text/plain": [
              "<Figure size 640x480 with 1 Axes>"
            ],
            "image/png": "[encoded data removed]"
          },
          "metadata": {}
        }
      ]
    },
    {
      "cell_type": "code",
      "source": [
        "# Performing LinearRegression\n",
        "from sklearn.linear_model import LinearRegression\n",
        "lin_reg = LinearRegression()\n",
        "lin_reg.fit(X,y)\n",
        "lin_reg.intercept_, lin_reg.coef_"
      ],
      "metadata": {
        "colab": {
          "base_uri": "https://localhost:8080/"
        },
        "id": "R7wRq63TVHL_",
        "outputId": "bbdcf506-be0b-49c3-fef4-b8b75f464be5"
      },
      "id": "R7wRq63TVHL_",
      "execution_count": 8,
      "outputs": [
        {
          "output_type": "execute_result",
          "data": {
            "text/plain": [
              "(array([4.21509616]), array([[2.77011339]]))"
            ]
          },
          "metadata": {},
          "execution_count": 8
        }
      ]
    },
    {
      "cell_type": "code",
      "source": [
        "lin_reg.predict(X_new)"
      ],
      "metadata": {
        "colab": {
          "base_uri": "https://localhost:8080/"
        },
        "id": "Od7NGRjeVUBR",
        "outputId": "44c0105e-67e3-4fd4-d546-92ba58796b8f"
      },
      "id": "Od7NGRjeVUBR",
      "execution_count": 9,
      "outputs": [
        {
          "output_type": "execute_result",
          "data": {
            "text/plain": [
              "array([[4.21509616],\n",
              "       [9.75532293]])"
            ]
          },
          "metadata": {},
          "execution_count": 9
        }
      ]
    },
    {
      "cell_type": "code",
      "source": [
        "# Using the scipy least squares function\n",
        "theta_best_svd, residuals, rank, s = np.linalg.lstsq(X_b, y, rcond=1e-6)\n",
        "theta_best_svd"
      ],
      "metadata": {
        "colab": {
          "base_uri": "https://localhost:8080/"
        },
        "id": "uPeHwjJGVVyO",
        "outputId": "f1c15dc0-f66d-49f5-cb2d-a7d2439b8a16"
      },
      "id": "uPeHwjJGVVyO",
      "execution_count": 11,
      "outputs": [
        {
          "output_type": "execute_result",
          "data": {
            "text/plain": [
              "array([[4.21509616],\n",
              "       [2.77011339]])"
            ]
          },
          "metadata": {},
          "execution_count": 11
        }
      ]
    },
    {
      "cell_type": "code",
      "source": [
        "# Implementing gradient descent\n",
        "eta = 0.1 # learning rate\n",
        "n_epochs = 1000\n",
        "m = len(X_b) # number of instances\n",
        "\n",
        "np.random.seed(42)\n",
        "theta = np.random.randn(2,1) # random inititalization of model params\n",
        "\n",
        "for epoch in range(n_epochs):\n",
        "  gradients = 2 / m * X_b.T @ (X_b @ theta - y)\n",
        "  theta = theta - eta * gradients\n",
        "\n",
        "theta"
      ],
      "metadata": {
        "colab": {
          "base_uri": "https://localhost:8080/"
        },
        "id": "n1TPgddvVla6",
        "outputId": "e4cbe653-0441-4e58-d201-de31cc069fe5"
      },
      "id": "n1TPgddvVla6",
      "execution_count": 13,
      "outputs": [
        {
          "output_type": "execute_result",
          "data": {
            "text/plain": [
              "array([[4.21509616],\n",
              "       [2.77011339]])"
            ]
          },
          "metadata": {},
          "execution_count": 13
        }
      ]
    },
    {
      "cell_type": "code",
      "source": [
        "# Implementing stochastic gradient descent (SGD)\n",
        "n_epochs = 50\n",
        "t0, t1 = 5, 50 # learning schedule hyperparams\n",
        "\n",
        "def learning_schedule(t):\n",
        "  return t0 / (t + t1)\n",
        "\n",
        "np.random.seed(42)\n",
        "theta = np.random.randn(2, 1) # random initialization\n",
        "\n",
        "for epoch in range(n_epochs):\n",
        "  for iteration in range(m):\n",
        "    random_index = np.random.randint(m)\n",
        "    xi = X_b[random_index : random_index + 1]\n",
        "    yi = y[random_index : random_index + 1]\n",
        "    gradients = 2 * xi.T @ (xi @ theta - yi) # for SGD don't divide by m\n",
        "    eta = learning_schedule(epoch * m + iteration)\n",
        "    theta = theta - eta * gradients\n",
        "\n",
        "theta"
      ],
      "metadata": {
        "colab": {
          "base_uri": "https://localhost:8080/"
        },
        "id": "8KWsxmKOerO8",
        "outputId": "d34077ab-dc3a-45b5-d94d-4fafeef1c451"
      },
      "id": "8KWsxmKOerO8",
      "execution_count": 14,
      "outputs": [
        {
          "output_type": "execute_result",
          "data": {
            "text/plain": [
              "array([[4.21076011],\n",
              "       [2.74856079]])"
            ]
          },
          "metadata": {},
          "execution_count": 14
        }
      ]
    },
    {
      "cell_type": "code",
      "source": [
        "# Linear Regression with SGD\n",
        "from sklearn.linear_model import SGDRegressor\n",
        "sgd_reg = SGDRegressor(max_iter = 1000, tol=1e-5, penalty = None, eta0 = 0.01,\n",
        "                       n_iter_no_change = 100, random_state = 42)\n",
        "sgd_reg.fit(X, y.ravel()) # y.ravel() because fit() expects 1D targets\n",
        "sgd_reg.intercept_, sgd_reg.coef_"
      ],
      "metadata": {
        "colab": {
          "base_uri": "https://localhost:8080/"
        },
        "id": "LX06vnBYge8h",
        "outputId": "14a9781b-15a4-48ee-a489-1d379745e174"
      },
      "id": "LX06vnBYge8h",
      "execution_count": 15,
      "outputs": [
        {
          "output_type": "execute_result",
          "data": {
            "text/plain": [
              "(array([4.21278812]), array([2.77270267]))"
            ]
          },
          "metadata": {},
          "execution_count": 15
        }
      ]
    },
    {
      "cell_type": "code",
      "source": [
        "# Polynomial regression\n",
        "np.random.seed(42)\n",
        "m = 100\n",
        "X = 6 * np.random.rand(m, 1) - 3\n",
        "y = 0.5 * X ** 2 + X + 2 + np.random.randn(m,1)"
      ],
      "metadata": {
        "id": "GTlKjE2EhJn2"
      },
      "id": "GTlKjE2EhJn2",
      "execution_count": 17,
      "outputs": []
    },
    {
      "cell_type": "code",
      "source": [
        "# Transforming our training data to polynomial\n",
        "from sklearn.preprocessing import PolynomialFeatures\n",
        "poly_features = PolynomialFeatures(degree = 2, include_bias = False)\n",
        "X_poly = poly_features.fit_transform(X)\n",
        "X[0]"
      ],
      "metadata": {
        "id": "OHrtskY5oozv",
        "outputId": "ebfafa27-6617-4e8d-f7a7-cbae16a369a2",
        "colab": {
          "base_uri": "https://localhost:8080/"
        }
      },
      "id": "OHrtskY5oozv",
      "execution_count": 18,
      "outputs": [
        {
          "output_type": "execute_result",
          "data": {
            "text/plain": [
              "array([-0.75275929])"
            ]
          },
          "metadata": {},
          "execution_count": 18
        }
      ]
    },
    {
      "cell_type": "code",
      "source": [
        "X_poly[0]"
      ],
      "metadata": {
        "id": "p2H1RRGZo7xE",
        "outputId": "5aa27f9a-b82c-449a-8ab1-a186c73e13d8",
        "colab": {
          "base_uri": "https://localhost:8080/"
        }
      },
      "id": "p2H1RRGZo7xE",
      "execution_count": 19,
      "outputs": [
        {
          "output_type": "execute_result",
          "data": {
            "text/plain": [
              "array([-0.75275929,  0.56664654])"
            ]
          },
          "metadata": {},
          "execution_count": 19
        }
      ]
    },
    {
      "cell_type": "code",
      "source": [
        "lin_reg = LinearRegression()\n",
        "lin_reg.fit(X_poly, y)\n",
        "lin_reg.intercept_, lin_reg.coef_"
      ],
      "metadata": {
        "id": "2sAM04n-o-Ss",
        "outputId": "18a5f5d1-999a-4b82-8be8-02cca47aa8e4",
        "colab": {
          "base_uri": "https://localhost:8080/"
        }
      },
      "id": "2sAM04n-o-Ss",
      "execution_count": 20,
      "outputs": [
        {
          "output_type": "execute_result",
          "data": {
            "text/plain": [
              "(array([1.78134581]), array([[0.93366893, 0.56456263]]))"
            ]
          },
          "metadata": {},
          "execution_count": 20
        }
      ]
    },
    {
      "cell_type": "code",
      "source": [
        "# Plotting learning curves to determine under/overfitting\n",
        "from sklearn.model_selection import learning_curve\n",
        "\n",
        "train_sizes, train_scores, valid_scores = learning_curve(\n",
        "    LinearRegression(), X, y, train_sizes=np.linspace(0.01, 1.0, 40), cv = 5,\n",
        "    scoring = \"neg_mean_squared_error\"\n",
        ")\n",
        "train_errors = -train_scores.mean(axis = 1)\n",
        "valid_errors = -valid_scores.mean(axis = 1)\n",
        "\n",
        "plt.plot(train_sizes, train_errors, \"r-+\", linewidth = 2, label = \"train\")\n",
        "plt.plot(train_sizes, valid_errors, \"b-\", linewidth = 3, label = \"validation\")\n",
        "plt.legend()\n",
        "plt.show()"
      ],
      "metadata": {
        "id": "FaeiZ9ispEXl",
        "outputId": "5faa6d4a-21b4-4ed1-d198-5701b8053eb1",
        "colab": {
          "base_uri": "https://localhost:8080/",
          "height": 430
        }
      },
      "id": "FaeiZ9ispEXl",
      "execution_count": 23,
      "outputs": [
        {
          "output_type": "display_data",
          "data": {
            "text/plain": [
              "<Figure size 640x480 with 1 Axes>"
            ],
            "image/png": "[encoded data removed]"
          },
          "metadata": {}
        }
      ]
    },
    {
      "cell_type": "code",
      "source": [
        "# Learning curves for a polynomial model\n",
        "from sklearn.pipeline import make_pipeline\n",
        "polynomial_regression = make_pipeline(\n",
        "    PolynomialFeatures(degree=10, include_bias =False),\n",
        "    LinearRegression())\n",
        "\n",
        "train_sizes, train_scores, valid_scores = learning_curve(\n",
        "    polynomial_regression, X, y, train_sizes=np.linspace(0.01, 1.0, 40), cv = 5,\n",
        "    scoring = \"neg_root_mean_squared_error\"\n",
        ")\n",
        "\n",
        "plt.plot(train_sizes, train_errors, \"r-+\", linewidth = 2, label = \"train\")\n",
        "plt.plot(train_sizes, valid_errors, \"b-\", linewidth = 3, label = \"validation\")\n",
        "plt.legend()\n",
        "plt.show()"
      ],
      "metadata": {
        "id": "xNpEa7D4sdc-",
        "outputId": "7a68bc4d-f927-45c2-8cb1-caab99719062",
        "colab": {
          "base_uri": "https://localhost:8080/",
          "height": 430
        }
      },
      "id": "xNpEa7D4sdc-",
      "execution_count": 25,
      "outputs": [
        {
          "output_type": "display_data",
          "data": {
            "text/plain": [
              "<Figure size 640x480 with 1 Axes>"
            ],
            "image/png": "[encoded data removed]"
          },
          "metadata": {}
        }
      ]
    },
    {
      "cell_type": "markdown",
      "source": [
        "**Bias/Variance Trade-off**\n",
        "\n",
        "A model's error is thought to be consistening of three errors:\n",
        "\n",
        "1- Bias: Wrong assumptions about the data's shape. Results in underfitting.\n",
        "\n",
        "2- Variance: Model is too sensitive to changes, such as a 10th degree polynomial. Results in overfitting.\n",
        "\n",
        "3- Irreducible error: Related to the noise in the dataset. Can be reduced by cleaning up the data.\n",
        "\n",
        "Increasing a model's complexity will increase variance and reduce bias, and vice-versa."
      ],
      "metadata": {
        "id": "TckW1KBmtuLg"
      },
      "id": "TckW1KBmtuLg"
    },
    {
      "cell_type": "markdown",
      "source": [
        "**Regularization**\n",
        "\n",
        "To reduce overfitting, we can regularize a model, i.e: reduce its complexity.\n",
        "\n",
        "For linear models, regularization is usually achieved by constraining the model's weights. Three typical ways to do this are: ridge regression, lasso regression, and elastic net regression.\n",
        "\n",
        "Note: it is important to perform scaling when applying regularization. Also the regularization term is only added to the cost during training, then the unregularized cost is used to evaluate the model performance."
      ],
      "metadata": {
        "id": "3bBTEjT8uu12"
      },
      "id": "3bBTEjT8uu12"
    },
    {
      "cell_type": "code",
      "source": [
        "# Ridge regression\n",
        "from sklearn.linear_model import Ridge\n",
        "ridge_reg = Ridge(alpha=0.1, solver = \"cholesky\")\n",
        "ridge_reg.fit(X, y)\n",
        "ridge_reg.predict([[1.5]])"
      ],
      "metadata": {
        "id": "cTLbeNZptP29",
        "outputId": "28cf7802-9377-4652-c5d3-1eee64b17182",
        "colab": {
          "base_uri": "https://localhost:8080/"
        }
      },
      "id": "cTLbeNZptP29",
      "execution_count": 26,
      "outputs": [
        {
          "output_type": "execute_result",
          "data": {
            "text/plain": [
              "array([4.82899748])"
            ]
          },
          "metadata": {},
          "execution_count": 26
        }
      ]
    },
    {
      "cell_type": "code",
      "source": [
        "# Ridge regression with SGD\n",
        "sgd_reg = SGDRegressor(penalty = \"l2\", alpha = 0.1/m, tol = None,\n",
        "                       max_iter = 1000, eta0=0.01, random_state=42)\n",
        "sgd_reg.fit(X, y.ravel())\n",
        "sgd_reg.predict([[1.5]])"
      ],
      "metadata": {
        "id": "59jk5E0RwGEW",
        "outputId": "b2810273-fc3d-4258-b84b-0ded4404176e",
        "colab": {
          "base_uri": "https://localhost:8080/"
        }
      },
      "id": "59jk5E0RwGEW",
      "execution_count": 28,
      "outputs": [
        {
          "output_type": "execute_result",
          "data": {
            "text/plain": [
              "array([4.82830117])"
            ]
          },
          "metadata": {},
          "execution_count": 28
        }
      ]
    },
    {
      "cell_type": "code",
      "source": [],
      "metadata": {
        "id": "jyt6H7Ukwgp1"
      },
      "id": "jyt6H7Ukwgp1",
      "execution_count": null,
      "outputs": []
    }
  ],
  "metadata": {
    "language_info": {
      "name": "python"
    },
    "colab": {
      "provenance": []
    },
    "kernelspec": {
      "name": "python3",
      "display_name": "Python 3"
    }
  },
  "nbformat": 4,
  "nbformat_minor": 5
}